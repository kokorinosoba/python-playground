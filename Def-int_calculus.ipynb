{
 "cells": [
  {
   "cell_type": "markdown",
   "metadata": {},
   "source": [
    "# ε-N論法"
   ]
  },
  {
   "cell_type": "markdown",
   "metadata": {},
   "source": [
    "## ガウス記号，床・天井関数"
   ]
  },
  {
   "cell_type": "markdown",
   "metadata": {},
   "source": [
    "$[x]$ はガウス記号と呼ばれ，$x$以下の最大の整数を表す．"
   ]
  },
  {
   "cell_type": "markdown",
   "metadata": {},
   "source": [
    "$$\\\n",
    "\\left[\\frac{1}{2}\\right] = 1\\\\\n",
    "\\left[\\sqrt{\\pi}\\right] = 3\\\\\n",
    "$$"
   ]
  },
  {
   "cell_type": "markdown",
   "metadata": {},
   "source": [
    "$\\lfloor x \\rfloor$は床関数と呼ばれ，ガウス記号と同じく$x$以下の最大の整数を表す．  \n",
    "$\\lceil x \\rceil$は天井関数と呼ばれ，$x$以上の最大の整数を表す．"
   ]
  },
  {
   "cell_type": "markdown",
   "metadata": {},
   "source": [
    "$$\\\n",
    "\\lfloor e \\rfloor = \\lfloor 2.71828... \\rfloor = 2\\\\\n",
    "\\lceil e \\rceil = \\lceil 2.71828... \\rceil = 3\\\\\n",
    "$$"
   ]
  }
 ],
 "metadata": {
  "kernelspec": {
   "display_name": "Python 3",
   "language": "python",
   "name": "python3"
  },
  "language_info": {
   "codemirror_mode": {
    "name": "ipython",
    "version": 3
   },
   "file_extension": ".py",
   "mimetype": "text/x-python",
   "name": "python",
   "nbconvert_exporter": "python",
   "pygments_lexer": "ipython3",
   "version": "3.8.5"
  }
 },
 "nbformat": 4,
 "nbformat_minor": 4
}
